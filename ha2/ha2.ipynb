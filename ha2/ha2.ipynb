{
 "cells": [
  {
   "cell_type": "code",
   "execution_count": 1,
   "metadata": {},
   "outputs": [],
   "source": [
    "import numpy as np\n",
    "import matplotlib.pyplot as plt"
   ]
  },
  {
   "cell_type": "markdown",
   "metadata": {},
   "source": [
    "### 1. Formulate the statement of the interpolation problem with Cubic Spline [mathematical formula]"
   ]
  },
  {
   "cell_type": "markdown",
   "metadata": {},
   "source": [
    "Given $f(x)$ defined on $[a, b]$, divided into parts $[x_{i-1}, x_i]$, such that $a = x_0 < x_1 <...< x_N = b$. Cubic Spline with defect $3 - p$, called the function $S(x)$, which:\n",
    "* on each $[x_{i-1}, x_i]$ is polynomial with degree not greater than 3\n",
    "* has continous first and second derivatives on $[a, b]$\n",
    "* $S(x_i) = f(x_i)$ on $x_i$\n",
    "* satisfy border conditions $S''(a) = S''(b) = 0$"
   ]
  },
  {
   "cell_type": "markdown",
   "metadata": {},
   "source": [
    "### 2. Formulate the functional and differential compatibility conditions [mathematical formula]"
   ]
  },
  {
   "cell_type": "markdown",
   "metadata": {},
   "source": [
    "* #### Functional compatability condition (p = 0)\n",
    "$S_m(x_i) - f(x_i) = 0$\n",
    "* #### Differential compatability condition (p > 0)\n",
    "$S_m^{(p)}(x_i) - f^{(p)}(x_i) = 0$"
   ]
  },
  {
   "cell_type": "markdown",
   "metadata": {},
   "source": [
    "### 3. Formulate stitching conditions [mathematical formula]"
   ]
  },
  {
   "cell_type": "markdown",
   "metadata": {},
   "source": [
    "$S_{m,i-1}^{(p)}(x)|_{x=x_i} = S_{m,i}^{(p)}(x)|_{x=x_i} i=1..n-1$"
   ]
  },
  {
   "cell_type": "markdown",
   "metadata": {},
   "source": [
    "### 4. Justify why these conditions provide you with the required smoothness [thesis text, no more than 500 characters]"
   ]
  },
  {
   "cell_type": "markdown",
   "metadata": {},
   "source": [
    "* **Functional compatability condition** guarantee continuity of function\n",
    "* **Differential compatability condition** guarantee that function is differentiable up to $p$\n",
    "* **Stitching condition** guarantee continuty of first derivative of function."
   ]
  },
  {
   "cell_type": "markdown",
   "metadata": {},
   "source": [
    "### 5. Derive dependency formula: the dependence of the second derivatives at the grid nodes on the increment of the function (the function values difference on the grid nodes). [Mathematical formulas derivation. Detailed, with clear transitions]"
   ]
  },
  {
   "cell_type": "markdown",
   "metadata": {},
   "source": [
    "1) Let $f_{i,i+1}''(x)=k_{i} \\frac{x-x_{i+1}}{x_{i}-x_{i+1}}+k_{i+1} \\frac{x-x_{i}}{x_{i+1}-x_{i}}$ \n",
    "\n",
    "---\n",
    "$f_{i, i+1}(x) = \\iint f_{i, i+1}''(x) dx^2 =\\iint(k_i \\frac{x-x_{i+1}}{x_i-x_{i+1}}+k_{i+1} \\frac{x-x_i}{x_{i+1}-x_i})dx^2$\n",
    "\n",
    "$=\\int (\\frac{k_i}{x_i-x_{i+1}} \\frac{(x-x_{i+1})^2}{2}+\\frac{k_{i+1}}{x_{i+1}-x_i} \\frac{(x-x_i)^2}{2}+C)dx$\n",
    "\n",
    "$=\\frac{k_i}{x_i-x_{i+1}} \\frac{(x-x_{i+1})^3}{6}+\\frac{k_{i+1}}{x_{i+1}-x_i} \\frac{(x-x_i)^3}{6}+Cx+D$\n",
    "\n",
    "2) Let $C=A-B$ and $D=-Ax_{i+1}+Bx_i$\n",
    "\n",
    "---\n",
    "$\\Rightarrow$ $f_{i, i+1}(x) =\\frac{k_i}{x_i-x_{i+1}} \\frac{(x-x_{i+1})^3}{6}+\\frac{k_{i+1}}{x_{i+1}-x_i} \\frac{(x-x_i)^3}{6}+(A-B)x-Ax_{i+1}+Bx_i$\n",
    "\n",
    "$\\Rightarrow$ $f_{i, i+1}(x) =\\frac{k_i}{x_i-x_{i+1}} \\frac{(x-x_{i+1})^3}{6}-\\frac{k_{i+1}}{x_i-x_{i+1}} \\frac{(x-x_i)^3}{6}+A(x-x_{i+1})-B(x-x_i)$\n",
    "\n",
    "3) Imposing conditions for interpolation for points $(x_i, y_i)$ and $(x_{i+1}, y_{i+1})$:\n",
    "\n",
    "---\n",
    "\n",
    "* $f_{i,i+1}(x_i)=y_i$ $\\Rightarrow$ $\\frac{k_i(x_i-x_{i+1})^3}{6(x_i-x_{i+1})} + A(x_i-x_{i+1})=y_i$ $\\Rightarrow$ $A=\\frac{y_i}{(x_i-x_{i+1})}-\\frac{k_i(x_i-x_{i+1})}{6}$\n",
    "\n",
    "* $f_{i,i+1}(x_{i+1})=y_{i+1}$ $\\Rightarrow$ $-\\frac{k_{i+1}(x_{i+1}-x_i)^3}{6(x_i-x_{i+1})} - B(x_{i+1}-x_i)=y_{i+1}$ $\\Rightarrow$ $B=\\frac{y_{i+1}}{(x_i-x_{i+1})}-\\frac{k_{i+1}(x_i-x_{i+1})}{6}$\n",
    "\n",
    "4) Substitute A and B:\n",
    "\n",
    "---\n",
    "\n",
    "$f_{i, i+1}(x) =\\frac{k_i}{x_i-x_{i+1}} \\frac{(x-x_{i+1})^3}{6}-\\frac{k_{i+1}}{x_i-x_{i+1}} \\frac{(x-x_i)^3}{6}+(\\frac{y_i}{(x_i-x_{i+1})}-\\frac{k_i(x_i-x_{i+1})}{6})(x-x_{i+1})-(\\frac{y_{i+1}}{(x_i-x_{i+1})}-\\frac{k_{i+1}(x_i-x_{i+1})}{6})(x-x_i)$\n",
    "\n",
    "$\\Rightarrow$ $f_{i, i+1}(x) =\\frac{k_i}{6} (\\frac{(x-x_{i+1})^3}{x_i-x_{i+1}} -(x-x_{i+1})(x_i-x_{i+1})) \n",
    "-\\frac{k_{i+1}}{6} (\\frac{(x-x_i)^3}{x_i-x_{i+1}}-(x-x_i)(x_i-x_{i+1}))\n",
    "+\\frac{y_i(x-x_{i+1})-y_{i+1}(x-x_i)}{x_i-x_{i+1}}$\n",
    "\n",
    "5) Imposing stitching condition $f_{i-1, i}(x_i)=f_{i, i+1}(x_i)$ :\n",
    "\n",
    "---\n",
    "\n",
    "* $f_{i,i+1}'(x)=\\frac{k_i}{6}[\\frac{3(x-x_{i+1})^2}{x_i-x_{i+1}}-(x_i-x_{i+1})]\\quad - \\frac{k_{i+1}}{6}[\\frac{3(x-x_i)^2}{x_i-x_{i+1}}-(x_i-x_{i+1})] +\\frac{y_i-y_{i+1}}{x_i-x_{i+1}}$\n",
    "\n",
    "* $f_{i-1,i}'(x)=\\frac{k_{i-1}}{6}[\\frac{3(x-x_i)^2}{x_{i-1}-x_i}-(x_{i-1}-x_i)]\\quad -\\frac{k_i}{6}[\\frac{3(x-x_{i-1})^2}{x_{i-1}-x_i}-(x_{i-1}-x_i)] +\\frac{y_{i-1}-y_i}{x_{i-1}-x_i}$\n",
    "\n",
    "6) Finally: \n",
    "\n",
    "---\n",
    "\n",
    "$k_{i-1}(x_{i-1}-x_{i})+2 k_{i}(x_{i-1}-x_{i+1})+k_{i+1}(x_{i}-x_{i+1})=6(\\frac{y_{i-1}-y_{i}}{x_{i-1}-x_{i}}-\\frac{y_{i}-y_{i+1}}{x_{i}-x_{i-1}})$"
   ]
  },
  {
   "cell_type": "markdown",
   "metadata": {},
   "source": [
    "### 6. Create a system of equations using this formula [Matrix representation. Mathematical formulas]"
   ]
  },
  {
   "cell_type": "markdown",
   "metadata": {},
   "source": [
    "$\\begin{bmatrix}\n",
    "h_1 & 2(h_2+h_1) & h_2 & 0 & .. & .. & 0\n",
    "\\\\ .. & .. & .. & .. & .. & .. & .. \\\\\n",
    ".. & 0 & h_i & 2(h_{i+1}+h_i) & h_{i+1} & 0 & ..\n",
    "\\\\ .. & .. & .. & .. & .. & .. & .. \\\\\n",
    "0 & .. & .. & 0 & h_{n-1} & 2(h_n+h_{n-1}) & h_n\n",
    "\\end{bmatrix}\n",
    "\\begin{bmatrix}\n",
    "m_0 \\\\ m_1 \\\\ .. \\\\ m_i \\\\ .. \\\\ m_{n-1} \\\\ m_n\n",
    "\\end{bmatrix}\n",
    "=\n",
    "6\\begin{bmatrix}\n",
    "(\\frac{\\Delta f_1}{h_2}-\\frac{\\Delta f_0}{h_1}) \n",
    "\\\\ .. \\\\\n",
    "(\\frac{\\Delta f_i}{h_{i+1}}-\\frac{\\Delta f_{i-1}}{h_i})\n",
    "\\\\ .. \\\\\n",
    "(\\frac{\\Delta f_{n-1}}{h_n}-\\frac{\\Delta f_{n-2}}{h_{n-1}})\n",
    "\\end{bmatrix}$"
   ]
  },
  {
   "cell_type": "markdown",
   "metadata": {},
   "source": [
    "### 7. Explain what is an unknown variable in this system. whether the system is closed with respect to an unknown variable. What is missing for closure. [Text, no more than 200 characters]"
   ]
  },
  {
   "cell_type": "markdown",
   "metadata": {},
   "source": [
    "The system has $n - 2$ unknown variables $m_i, i = 1..n-1$ and it is not closed with respect to $m_i, i = 0..n$. For closure of the system we may set that second derivitives at the ends equal to 0, so $m_0 = m_n = 0$."
   ]
  },
  {
   "cell_type": "markdown",
   "metadata": {},
   "source": [
    "### 8. Bring this matrix to the appropriate form to use the Tridiagonal matrix algorithm [Mathematical derivation. Use Gauss Elimination]"
   ]
  },
  {
   "cell_type": "markdown",
   "metadata": {},
   "source": [
    "$\\begin{bmatrix}\n",
    "1 & -P_1 & 0 & 0 & .. & Q_1 \\\\\n",
    "0 & 1 & -P_2 & 0 & .. & Q_2 \\\\\n",
    "0 & 0 & 1 & -P_3 & .. & Q_3 \\\\\n",
    ".. & .. & .. & .. & .. & .. \\\\\n",
    "0 & 0 & 0 & 1 & .. & Q_{n-1} \n",
    "\\end{bmatrix}$\n",
    "\n",
    "Where\n",
    "\n",
    "$P_1=\\frac{h_2}{-2(h_2+h_1)}$\n",
    "\n",
    "$Q_1=\\frac{6(\\frac{\\Delta f_1}{h_2}-\\frac{\\Delta f_0}{h_1})}{2(h_2+h_1)}$\n",
    "\n",
    "$P_i=\\frac{h_{i+1}}{-2(h_{i+1}+h_i)-h_iP_{i-1}}$\n",
    "\n",
    "$Q_i=\\frac{h_iQ_{i-1}-6(\\frac{\\Delta f_i}{h_{i+1}}-\\frac{\\Delta f_{i-1}}{h_i})}{-2(h_{i+1}+h_i)-h_iP_{i-1}}$\n"
   ]
  },
  {
   "cell_type": "markdown",
   "metadata": {},
   "source": [
    "### 9. Derive formulas of direct pass and reverse pass of Tridiagonal matrix algorithm [Mathematical formals]"
   ]
  },
  {
   "cell_type": "markdown",
   "metadata": {},
   "source": [
    "Expanded record of tridiagonal matrix is:\n",
    "\n",
    "$\\alpha_ix_{i - 1} - \\beta_ix_i + \\gamma_ix_{i + 1} = \\delta_i, \\alpha_1=\\gamma_n=0, i=1..n$ (1)\n",
    "\n",
    "Suppose we have converted a tridiagonal matrix to an upper triangular matrix by gaussian elimination and got matrix from the previous section. Considering that the last row of this matrix is equal to the right side (so $x_{n-1} = Q_{n-1}$) and each row depends on the row below, we get recurrent formula: $x_i = P_ix_{i + 1} + Q_i, i = 1..n-1$ (2). This is the reverse pass formula.\n",
    "\n",
    "$x_{i - 1} = P_{i - 1}x_i + Q_{i - 1}$ (3)\n",
    "\n",
    "Putting (3) in (1):\n",
    "\n",
    "$\\alpha_i(P_{i - 1}x_i + Q_{i - 1}) - \\beta_ix_i + \\gamma_ix_{i + 1} = \\delta_i$\n",
    "\n",
    "$\\Rightarrow x_i = \\frac{-\\gamma_i}{\\alpha_iP_{i - 1} - \\beta_i}x_{i + 1} + \\frac{-\\alpha_iQ_{i - 1} + \\delta_i}{\\alpha_iP_{i - 1} - \\beta_i}$\n",
    "\n",
    "looking at (2), we get:\n",
    "\n",
    "$P_i = \\frac{\\gamma_i}{\\beta_i - \\alpha_iP_{i - 1}}$\n",
    "\n",
    "$Q_i = \\frac{\\alpha_iQ_{i - 1} - \\delta_i}{\\beta_i - \\alpha_iP_{i - 1}}$\n",
    "\n",
    "$P_i$ and $Q_i$ are direct pass formulas.\n",
    "\n",
    "\n",
    "\n",
    "\n",
    "\n",
    "\n"
   ]
  },
  {
   "cell_type": "markdown",
   "metadata": {},
   "source": [
    "### 10. Implement code prototype of the future algorithm implementation. Classes/methods (if you use OOP), functions. The final implementation (on language chosen by you) should not differ from the functions declared in the prototype. [Python code]"
   ]
  },
  {
   "cell_type": "code",
   "execution_count": 22,
   "metadata": {},
   "outputs": [
    {
     "data": {
      "image/png": "[encoded data removed]",
      "text/plain": [
       "<Figure size 432x288 with 1 Axes>"
      ]
     },
     "metadata": {
      "needs_background": "light"
     },
     "output_type": "display_data"
    }
   ],
   "source": [
    "def solve_tdm(A, delta):\n",
    "    n = len(delta)\n",
    "    \n",
    "    P = np.zeros(n - 1)\n",
    "    Q = np.zeros(n - 1)\n",
    "    \n",
    "    P[0] = -A[2][0] / A[1][0]\n",
    "    Q[0] = delta[0] / A[1][0]\n",
    "    \n",
    "    for i in range(1, n - 1):\n",
    "        P[i] = -A[2][i] / (A[1][i] + A[0][i] * P[i - 1])\n",
    "        Q[i] = (delta[i] - A[0][i] * Q[i - 1]) / (A[1][i] + A[0][i] * P[i - 1])\n",
    "        \n",
    "    x = np.zeros(n)\n",
    "    x[n - 1] = (delta[n - 1] - A[0][n - 1] * Q[n - 2]) / (A[1][n - 1] + A[0][n - 1] * P[n - 2])\n",
    " \n",
    "    for i in range(n - 2, -1, -1):\n",
    "        x[i] = x[i + 1] * P[i] + Q[i]\n",
    "    return x\n",
    "\n",
    " \n",
    "def build_spline(x, f):\n",
    "    n = len(x)\n",
    "    \n",
    "    h = np.zeros(n - 1)\n",
    "    df = np.zeros(n - 1)\n",
    "    \n",
    "    A = np.zeros((3, n - 2))\n",
    "    delta = np.zeros(n - 2)\n",
    "    \n",
    "    for i in range(0, n - 1):\n",
    "        h[i] = x[i + 1] - x[i]\n",
    "        df[i] = f[i + 1] - f[i]\n",
    " \n",
    "    for i in range(0, n - 2):\n",
    "        A[0][i] = h[i]\n",
    "        A[1][i] = 2 * (h[i] + h[i + 1])\n",
    "        A[2][i] = h[i + 1]\n",
    "        delta[i] = 6 * (df[i + 1] / h[i + 1] - df[i] / h[i])\n",
    "\n",
    "    A[0][0] = 0\n",
    "    A[2][n - 3] = 0\n",
    " \n",
    "    m = np.pad(solve_tdm(A, delta), (1, 1), 'constant', constant_values=0)\n",
    "    coef = np.zeros((4, n - 1))\n",
    "    \n",
    "    for i in range(0, n - 1):\n",
    "        coef[0][i] = f[i]\n",
    "        coef[1][i] = (df[i] / h[i] - h[i] * m[i] / 2 - h[i] * (m[i + 1] - m[i]) / 6)\n",
    "        coef[2][i] = m[i] / 2\n",
    "        coef[3][i] = (m[i + 1] - m[i]) / (6 * h[i])\n",
    " \n",
    "    return coef\n",
    " \n",
    "def interpolate(q, coef, xs):\n",
    "    i, _ = next((i, x) for (i, x) in enumerate(xs) if x >= q)\n",
    "    i -= 1\n",
    "    h = q - xs[i]\n",
    "    return coef[0][i] + coef[1][i] * h + coef[2][i] * h**2 + coef[3][i] * h**3\n",
    "\n",
    "x = [0, 1, 2, 3, 4, 5, 6]\n",
    "f = [2, 3, 4, 9, 4, 1, 3]\n",
    "spline = build_spline(x, f)\n",
    "\n",
    "steps = np.arange(0.1, 6, 0.1)\n",
    "y_pred = [interpolate(step, spline, x) for step in steps]\n",
    "\n",
    "plt.scatter(x, f)\n",
    "plt.plot(steps, y_pred)\n",
    "plt.show()"
   ]
  },
  {
   "cell_type": "markdown",
   "metadata": {},
   "source": [
    "### 11. Derive formula of Cubic Spline method error [Mathematical formulas]"
   ]
  },
  {
   "cell_type": "markdown",
   "metadata": {},
   "source": [
    "Let the function $y = f(x)$ have a fourth-order continuous derivative on the interval $[a, b]$ and $M_4 = max_{[a, b]}|f^{(4)}(x)|$. \n",
    "\n",
    "Then, for $S_3(x)$ that satisfy the boundary conditions, the following error estimate holds: $max_{[a, b]}|f^{(p)}(x) - S_3^{(p)}(x)| ≤ С_pM_4h_{max}^{4 - p}, p=[1,2,3], h_{max} = max_{1 ≤ i ≤ n}h_i$"
   ]
  },
  {
   "cell_type": "markdown",
   "metadata": {},
   "source": [
    "### 12. Rate the complexity of the algorithm [Text, and rate in terms of big O, no more than 100 characters]"
   ]
  },
  {
   "cell_type": "markdown",
   "metadata": {},
   "source": [
    "Most complex task is solving tridiagonal matrix $\\approx O(N)$\n"
   ]
  },
  {
   "cell_type": "markdown",
   "metadata": {},
   "source": [
    "### Congrats!"
   ]
  }
 ],
 "metadata": {
  "kernelspec": {
   "display_name": "Python 3",
   "language": "python",
   "name": "python3"
  },
  "language_info": {
   "codemirror_mode": {
    "name": "ipython",
    "version": 3
   },
   "file_extension": ".py",
   "mimetype": "text/x-python",
   "name": "python",
   "nbconvert_exporter": "python",
   "pygments_lexer": "ipython3",
   "version": "3.6.9"
  }
 },
 "nbformat": 4,
 "nbformat_minor": 2
}
